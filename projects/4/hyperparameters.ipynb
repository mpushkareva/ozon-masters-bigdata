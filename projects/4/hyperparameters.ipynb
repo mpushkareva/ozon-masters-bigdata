{
 "cells": [
  {
   "cell_type": "code",
   "execution_count": 1,
   "metadata": {},
   "outputs": [],
   "source": [
    "import os\n",
    "import sys\n",
    "\n",
    "SPARK_HOME = \"/usr/hdp/current/spark2-client\"\n",
    "PYSPARK_PYTHON = \"/opt/conda/envs/dsenv/bin/python\"\n",
    "os.environ[\"PYSPARK_PYTHON\"]= PYSPARK_PYTHON\n",
    "os.environ[\"SPARK_HOME\"] = SPARK_HOME\n",
    "\n",
    "PYSPARK_HOME = os.path.join(SPARK_HOME, \"python/lib\")\n",
    "sys.path.insert(0, os.path.join(PYSPARK_HOME, \"py4j-0.10.7-src.zip\"))\n",
    "sys.path.insert(0, os.path.join(PYSPARK_HOME, \"pyspark.zip\"))"
   ]
  },
  {
   "cell_type": "code",
   "execution_count": 2,
   "metadata": {},
   "outputs": [],
   "source": [
    "from pyspark import SparkConf\n",
    "from pyspark.sql import SparkSession\n",
    "\n",
    "conf = SparkConf()\n",
    "conf.set(\"spark.ui.port\", 23830) # подставьте случайное пятизначное число\n",
    "\n",
    "spark = SparkSession.builder.config(conf=conf).appName(\"Spark ML Intro\").getOrCreate()"
   ]
  },
  {
   "cell_type": "code",
   "execution_count": 3,
   "metadata": {},
   "outputs": [],
   "source": [
    "#spark = SparkSession.builder.getOrCreate()\n",
    "#spark.sparkContext.setLogLevel('WARN')"
   ]
  },
  {
   "cell_type": "code",
   "execution_count": 4,
   "metadata": {},
   "outputs": [
    {
     "data": {
      "text/html": [
       "\n",
       "            <div>\n",
       "                <p><b>SparkSession - in-memory</b></p>\n",
       "                \n",
       "        <div>\n",
       "            <p><b>SparkContext</b></p>\n",
       "\n",
       "            <p><a href=\"http://ip-10-0-1-212.us-east-2.compute.internal:4040\">Spark UI</a></p>\n",
       "\n",
       "            <dl>\n",
       "              <dt>Version</dt>\n",
       "                <dd><code>v2.3.2.3.1.4.0-315</code></dd>\n",
       "              <dt>Master</dt>\n",
       "                <dd><code>yarn</code></dd>\n",
       "              <dt>AppName</dt>\n",
       "                <dd><code>pyspark-shell</code></dd>\n",
       "            </dl>\n",
       "        </div>\n",
       "        \n",
       "            </div>\n",
       "        "
      ],
      "text/plain": [
       "<pyspark.sql.session.SparkSession at 0x7f3484e5e7d0>"
      ]
     },
     "execution_count": 4,
     "metadata": {},
     "output_type": "execute_result"
    }
   ],
   "source": [
    "spark"
   ]
  },
  {
   "cell_type": "code",
   "execution_count": 3,
   "metadata": {},
   "outputs": [],
   "source": [
    "from pyspark.sql.types import *\n",
    "from pyspark.ml.feature import *\n",
    "import pyspark.sql.functions as f\n",
    "from pyspark.ml.classification import LogisticRegression\n",
    "from pyspark.ml import Pipeline\n",
    "from pyspark.ml.evaluation import RegressionEvaluator\n",
    "from pyspark.ml.tuning import CrossValidator, ParamGridBuilder"
   ]
  },
  {
   "cell_type": "code",
   "execution_count": 4,
   "metadata": {},
   "outputs": [],
   "source": [
    "path = \"/datasets/amazon/all_reviews_5_core_train_small.json\"\n",
    "data = spark.read.json(path)"
   ]
  },
  {
   "cell_type": "code",
   "execution_count": 5,
   "metadata": {},
   "outputs": [],
   "source": [
    "train, test = data.randomSplit([0.9, 0.1], seed=12345)"
   ]
  },
  {
   "cell_type": "code",
   "execution_count": 6,
   "metadata": {},
   "outputs": [],
   "source": [
    "stop_words = StopWordsRemover.loadDefaultStopWords(\"english\")\n",
    "tokenizer = RegexTokenizer(inputCol=\"reviewText\", outputCol=\"wordsReview\", pattern=\"\\\\W\")\n",
    "swr = StopWordsRemover(inputCol=tokenizer.getOutputCol(), outputCol=\"reviewFiltered\", stopWords=stop_words)\n",
    "count_vectorizer = CountVectorizer(inputCol=swr.getOutputCol(), outputCol=\"reviewVector\", binary=True, vocabSize=3000)"
   ]
  },
  {
   "cell_type": "code",
   "execution_count": 7,
   "metadata": {},
   "outputs": [],
   "source": [
    "lr = LogisticRegression(featuresCol=\"reviewVector\", labelCol=\"overall\",  maxIter=30)"
   ]
  },
  {
   "cell_type": "code",
   "execution_count": 7,
   "metadata": {},
   "outputs": [],
   "source": [
    "evaluator = RegressionEvaluator(labelCol=\"overall\", predictionCol=\"prediction\", metricName='rmse')"
   ]
  },
  {
   "cell_type": "code",
   "execution_count": 9,
   "metadata": {},
   "outputs": [],
   "source": [
    "pipeline = Pipeline(stages=[\n",
    "    tokenizer,   \n",
    "    swr,    \n",
    "    count_vectorizer,\n",
    "    lr\n",
    "])"
   ]
  },
  {
   "cell_type": "code",
   "execution_count": 10,
   "metadata": {
    "scrolled": false
   },
   "outputs": [],
   "source": [
    "pipeline_model = pipeline.fit(train)"
   ]
  },
  {
   "cell_type": "code",
   "execution_count": 11,
   "metadata": {},
   "outputs": [
    {
     "data": {
      "text/plain": [
       "1.0875679521051143"
      ]
     },
     "execution_count": 11,
     "metadata": {},
     "output_type": "execute_result"
    }
   ],
   "source": [
    "predictions = pipeline_model.transform(test)\n",
    "rmse = evaluator.evaluate(predictions)\n",
    "rmse"
   ]
  },
  {
   "cell_type": "markdown",
   "metadata": {},
   "source": [
    "## Подбор параметров"
   ]
  },
  {
   "cell_type": "code",
   "execution_count": 25,
   "metadata": {},
   "outputs": [],
   "source": [
    "paramGrid = ParamGridBuilder() \\\n",
    "    .addGrid(lr.regParam, [0, 0.01, 0.05]) \\\n",
    "    .build()\n",
    "\n",
    "crossval = CrossValidator(estimator=pipeline,\n",
    "                          estimatorParamMaps=paramGrid,\n",
    "                          evaluator=evaluator,\n",
    "                          numFolds=3)\n",
    "\n",
    "cvModel = crossval.fit(data)\n",
    "#zip(cvModel.avgMetrics, paramGrid)\n",
    "#predictions = cvModel.transform(test)"
   ]
  },
  {
   "cell_type": "markdown",
   "metadata": {},
   "source": [
    "lr.regParam, [0, 0.1, 0.01]"
   ]
  },
  {
   "cell_type": "code",
   "execution_count": 26,
   "metadata": {},
   "outputs": [
    {
     "data": {
      "text/plain": [
       "[1.0921764158184089, 1.0922413098323918, 1.0921702174855719]"
      ]
     },
     "execution_count": 26,
     "metadata": {},
     "output_type": "execute_result"
    }
   ],
   "source": [
    "cvModel.avgMetrics "
   ]
  },
  {
   "cell_type": "code",
   "execution_count": 32,
   "metadata": {},
   "outputs": [],
   "source": [
    "lr = LogisticRegression(featuresCol=\"reviewVector\", labelCol=\"overall\", regParam=0)"
   ]
  },
  {
   "cell_type": "code",
   "execution_count": 33,
   "metadata": {},
   "outputs": [],
   "source": [
    "paramGrid = ParamGridBuilder() \\\n",
    "    .addGrid(lr.maxIter, [5, 10, 15, 20, 25, 30])\\\n",
    "    .build()\n",
    "\n",
    "crossval = CrossValidator(estimator=pipeline,\n",
    "                          estimatorParamMaps=paramGrid,\n",
    "                          evaluator=evaluator,\n",
    "                          numFolds=3)\n",
    "\n",
    "cvModel = crossval.fit(data)"
   ]
  },
  {
   "cell_type": "code",
   "execution_count": 34,
   "metadata": {},
   "outputs": [
    {
     "data": {
      "text/plain": [
       "[1.092192733151485,\n",
       " 1.0920426876340248,\n",
       " 1.0919565062351881,\n",
       " 1.092192733151485,\n",
       " 1.0919772559163152,\n",
       " 1.0921702348342683]"
      ]
     },
     "execution_count": 34,
     "metadata": {},
     "output_type": "execute_result"
    }
   ],
   "source": [
    "cvModel.avgMetrics "
   ]
  },
  {
   "cell_type": "code",
   "execution_count": 20,
   "metadata": {},
   "outputs": [],
   "source": [
    "lr = LogisticRegression(featuresCol=\"reviewVector\", labelCol=\"overall\", regParam=0)\n",
    "count_vectorizer = CountVectorizer(inputCol=swr.getOutputCol(), outputCol=\"reviewVector\", binary=True)"
   ]
  },
  {
   "cell_type": "code",
   "execution_count": 21,
   "metadata": {},
   "outputs": [],
   "source": [
    "paramGrid = ParamGridBuilder() \\\n",
    "    .addGrid(lr.regParam, [5, 10]) \\\n",
    "    .addGrid(count_vectorizer.vocabSize, [1000, 1500, 2000, 2500, 3000])\\\n",
    "    .build()\n",
    "\n",
    "crossval = CrossValidator(estimator=pipeline,\n",
    "                          estimatorParamMaps=paramGrid,\n",
    "                          evaluator=evaluator,\n",
    "                          numFolds=3)\n",
    "\n",
    "cvModel = crossval.fit(data)"
   ]
  },
  {
   "cell_type": "code",
   "execution_count": 22,
   "metadata": {},
   "outputs": [
    {
     "data": {
      "text/plain": [
       "[1.0969129463223743,\n",
       " 1.0969129463223743,\n",
       " 1.0969235314572523,\n",
       " 1.0969129463223743,\n",
       " 1.0969129463223743,\n",
       " 1.0969310290759866,\n",
       " 1.0969235314572523,\n",
       " 1.0969235314572523,\n",
       " 1.0969129463223743,\n",
       " 1.0969310290759866]"
      ]
     },
     "execution_count": 22,
     "metadata": {},
     "output_type": "execute_result"
    }
   ],
   "source": [
    "cvModel.avgMetrics "
   ]
  },
  {
   "cell_type": "code",
   "execution_count": 38,
   "metadata": {},
   "outputs": [
    {
     "data": {
      "text/plain": [
       "[{Param(parent='LogisticRegression_42d3ae5db561952d5812', name='regParam', doc='regularization parameter (>= 0).'): 5,\n",
       "  Param(parent='CountVectorizer_4b6e9efc02bb315e2802', name='vocabSize', doc='max size of the vocabulary. Default 1 << 18.'): 1000},\n",
       " {Param(parent='LogisticRegression_42d3ae5db561952d5812', name='regParam', doc='regularization parameter (>= 0).'): 5,\n",
       "  Param(parent='CountVectorizer_4b6e9efc02bb315e2802', name='vocabSize', doc='max size of the vocabulary. Default 1 << 18.'): 1500},\n",
       " {Param(parent='LogisticRegression_42d3ae5db561952d5812', name='regParam', doc='regularization parameter (>= 0).'): 5,\n",
       "  Param(parent='CountVectorizer_4b6e9efc02bb315e2802', name='vocabSize', doc='max size of the vocabulary. Default 1 << 18.'): 2000},\n",
       " {Param(parent='LogisticRegression_42d3ae5db561952d5812', name='regParam', doc='regularization parameter (>= 0).'): 5,\n",
       "  Param(parent='CountVectorizer_4b6e9efc02bb315e2802', name='vocabSize', doc='max size of the vocabulary. Default 1 << 18.'): 2500},\n",
       " {Param(parent='LogisticRegression_42d3ae5db561952d5812', name='regParam', doc='regularization parameter (>= 0).'): 5,\n",
       "  Param(parent='CountVectorizer_4b6e9efc02bb315e2802', name='vocabSize', doc='max size of the vocabulary. Default 1 << 18.'): 3000},\n",
       " {Param(parent='LogisticRegression_42d3ae5db561952d5812', name='regParam', doc='regularization parameter (>= 0).'): 10,\n",
       "  Param(parent='CountVectorizer_4b6e9efc02bb315e2802', name='vocabSize', doc='max size of the vocabulary. Default 1 << 18.'): 1000},\n",
       " {Param(parent='LogisticRegression_42d3ae5db561952d5812', name='regParam', doc='regularization parameter (>= 0).'): 10,\n",
       "  Param(parent='CountVectorizer_4b6e9efc02bb315e2802', name='vocabSize', doc='max size of the vocabulary. Default 1 << 18.'): 1500},\n",
       " {Param(parent='LogisticRegression_42d3ae5db561952d5812', name='regParam', doc='regularization parameter (>= 0).'): 10,\n",
       "  Param(parent='CountVectorizer_4b6e9efc02bb315e2802', name='vocabSize', doc='max size of the vocabulary. Default 1 << 18.'): 2000},\n",
       " {Param(parent='LogisticRegression_42d3ae5db561952d5812', name='regParam', doc='regularization parameter (>= 0).'): 10,\n",
       "  Param(parent='CountVectorizer_4b6e9efc02bb315e2802', name='vocabSize', doc='max size of the vocabulary. Default 1 << 18.'): 2500},\n",
       " {Param(parent='LogisticRegression_42d3ae5db561952d5812', name='regParam', doc='regularization parameter (>= 0).'): 10,\n",
       "  Param(parent='CountVectorizer_4b6e9efc02bb315e2802', name='vocabSize', doc='max size of the vocabulary. Default 1 << 18.'): 3000}]"
      ]
     },
     "execution_count": 38,
     "metadata": {},
     "output_type": "execute_result"
    }
   ],
   "source": [
    "paramGrid"
   ]
  },
  {
   "cell_type": "markdown",
   "metadata": {},
   "source": [
    "## Сравним по времени (5, 3000) и (10, 2500) и добавим еще один столбец"
   ]
  },
  {
   "cell_type": "code",
   "execution_count": 11,
   "metadata": {},
   "outputs": [],
   "source": [
    "lr = LogisticRegression(featuresCol=\"reviewVector\", labelCol=\"overall\", maxIter=5, regParam=0)\n",
    "count_vectorizer = CountVectorizer(inputCol=swr.getOutputCol(), outputCol=\"reviewVector\", binary=True, vocabSize=3000)"
   ]
  },
  {
   "cell_type": "code",
   "execution_count": 12,
   "metadata": {},
   "outputs": [],
   "source": [
    "assembler = VectorAssembler(inputCols=[count_vectorizer.getOutputCol(), 'verified'], outputCol=\"features\")"
   ]
  },
  {
   "cell_type": "code",
   "execution_count": 13,
   "metadata": {},
   "outputs": [],
   "source": [
    "pipeline = Pipeline(stages=[\n",
    "    tokenizer,   \n",
    "    swr,    \n",
    "    count_vectorizer,\n",
    "    assembler,\n",
    "    lr\n",
    "])"
   ]
  },
  {
   "cell_type": "code",
   "execution_count": 14,
   "metadata": {},
   "outputs": [
    {
     "name": "stdout",
     "output_type": "stream",
     "text": [
      "CPU times: user 46.1 ms, sys: 23.8 ms, total: 69.9 ms\n",
      "Wall time: 31.7 s\n"
     ]
    }
   ],
   "source": [
    "%%time\n",
    "pipeline_model = pipeline.fit(train)"
   ]
  },
  {
   "cell_type": "code",
   "execution_count": 15,
   "metadata": {},
   "outputs": [
    {
     "data": {
      "text/plain": [
       "1.1595389754660674"
      ]
     },
     "execution_count": 15,
     "metadata": {},
     "output_type": "execute_result"
    }
   ],
   "source": [
    "predictions = pipeline_model.transform(test)\n",
    "rmse = evaluator.evaluate(predictions)\n",
    "rmse"
   ]
  },
  {
   "cell_type": "code",
   "execution_count": 16,
   "metadata": {},
   "outputs": [],
   "source": [
    "lr = LogisticRegression(featuresCol=\"reviewVector\", labelCol=\"overall\", maxIter=10, regParam=0)\n",
    "count_vectorizer = CountVectorizer(inputCol=swr.getOutputCol(), outputCol=\"reviewVector\", binary=True, vocabSize=2500)"
   ]
  },
  {
   "cell_type": "code",
   "execution_count": 17,
   "metadata": {},
   "outputs": [],
   "source": [
    "pipeline = Pipeline(stages=[\n",
    "    tokenizer,   \n",
    "    swr,    \n",
    "    count_vectorizer,\n",
    "    assembler,\n",
    "    lr\n",
    "])"
   ]
  },
  {
   "cell_type": "code",
   "execution_count": 18,
   "metadata": {},
   "outputs": [
    {
     "name": "stdout",
     "output_type": "stream",
     "text": [
      "CPU times: user 57.4 ms, sys: 10.4 ms, total: 67.9 ms\n",
      "Wall time: 16.9 s\n"
     ]
    }
   ],
   "source": [
    "%%time\n",
    "pipeline_model = pipeline.fit(train)"
   ]
  },
  {
   "cell_type": "code",
   "execution_count": 19,
   "metadata": {},
   "outputs": [
    {
     "data": {
      "text/plain": [
       "1.0894365388203096"
      ]
     },
     "execution_count": 19,
     "metadata": {},
     "output_type": "execute_result"
    }
   ],
   "source": [
    "predictions = pipeline_model.transform(test)\n",
    "rmse = evaluator.evaluate(predictions)\n",
    "rmse"
   ]
  },
  {
   "cell_type": "markdown",
   "metadata": {},
   "source": [
    "Выбираем maxIter=10, regParam=0, vocabSize=2500, "
   ]
  },
  {
   "cell_type": "code",
   "execution_count": 21,
   "metadata": {},
   "outputs": [],
   "source": [
    "spark.stop()"
   ]
  }
 ],
 "metadata": {
  "kernelspec": {
   "display_name": "dsenv",
   "language": "python",
   "name": "dsenv"
  },
  "language_info": {
   "codemirror_mode": {
    "name": "ipython",
    "version": 3
   },
   "file_extension": ".py",
   "mimetype": "text/x-python",
   "name": "python",
   "nbconvert_exporter": "python",
   "pygments_lexer": "ipython3",
   "version": "3.7.4"
  }
 },
 "nbformat": 4,
 "nbformat_minor": 2
}
